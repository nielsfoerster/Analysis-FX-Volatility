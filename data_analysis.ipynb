{
 "cells": [
  {
   "cell_type": "code",
   "execution_count": 1,
   "id": "a38420c8-0510-4818-ac99-ef1134359f47",
   "metadata": {},
   "outputs": [],
   "source": [
    "import pandas as pd\n",
    "import numpy as np\n",
    "import matplotlib.pyplot as plt\n",
    "%matplotlib inline"
   ]
  },
  {
   "cell_type": "code",
   "execution_count": 2,
   "id": "4566aa6d-45ba-4ed4-a9ec-11785b966d90",
   "metadata": {},
   "outputs": [],
   "source": [
    "data=pd.read_excel('data/euro_dollar.xls',sheet_name='euro-dollar') # \\s+ regex for 1 or more whitespaced"
   ]
  },
  {
   "cell_type": "code",
   "execution_count": 3,
   "id": "14a58098-516f-4b5f-a030-bca22288940f",
   "metadata": {},
   "outputs": [],
   "source": [
    "#with open(\"data/Euro_dollar/Last/Prices/Euro_dollar5min.txt\", \"r\") as file:\n",
    "#    data = str(file.read())\n",
    "#data.info()"
   ]
  },
  {
   "cell_type": "code",
   "execution_count": 37,
   "id": "0ed4da50-09ae-49c3-bca9-a8b358cd2e20",
   "metadata": {},
   "outputs": [],
   "source": [
    "data5=data[['Unnamed: 24','Unnamed: 25','Unnamed: 26','Unnamed: 27','Unnamed: 28','Unnamed: 29','Unnamed: 30']]"
   ]
  },
  {
   "cell_type": "code",
   "execution_count": 38,
   "id": "154f90a8-73b1-4bb7-accc-88a916a6b316",
   "metadata": {},
   "outputs": [],
   "source": [
    "data5.columns=data5.iloc[2]"
   ]
  },
  {
   "cell_type": "code",
   "execution_count": 39,
   "id": "9d9dd5b0-2218-45a7-aa41-5a7e2596c804",
   "metadata": {},
   "outputs": [],
   "source": [
    "data5=data5.drop([0,1,2],axis=0)"
   ]
  },
  {
   "cell_type": "code",
   "execution_count": null,
   "id": "17d427f8-099e-49d2-b6f5-ba2841fc120d",
   "metadata": {},
   "outputs": [],
   "source": []
  },
  {
   "cell_type": "code",
   "execution_count": 40,
   "id": "8e2bfa16-51e6-482a-8de7-c5d12f64828f",
   "metadata": {},
   "outputs": [],
   "source": [
    "# convert Date column to pd.datetime\n",
    "data5['Date']=pd.to_datetime(data5['Date'])"
   ]
  },
  {
   "cell_type": "code",
   "execution_count": 41,
   "id": "4e5ee86e-d234-478e-ba0b-3e2aec2d5afa",
   "metadata": {},
   "outputs": [],
   "source": [
    "data5['Month']=data5['Date'].dt.month\n",
    "data5['Day']=data5['Date'].dt.day\n",
    "data5['Hour']=data5['Date'].dt.hour\n",
    "data5['Min']=data5['Date'].dt.minute\n",
    "data5['Weekday']=data5['Date'].dt.day_name()"
   ]
  },
  {
   "cell_type": "code",
   "execution_count": 45,
   "id": "b58c21b6-fd9c-4e0b-b8b0-3aef75118e27",
   "metadata": {},
   "outputs": [],
   "source": [
    "#drop first entries to start with full day \n",
    "#data5"
   ]
  },
  {
   "cell_type": "code",
   "execution_count": 43,
   "id": "02030682-047d-4f53-933a-1628eced1fd3",
   "metadata": {},
   "outputs": [],
   "source": [
    "# identify idexes of first and last entries that belong to incomplete days\n",
    "first_entries=data5[(data5.Month==12) & (data5.Day==9)].index\n",
    "last_entries=data5[(data5.Month==6)&(data5.Day==24)].index"
   ]
  },
  {
   "cell_type": "code",
   "execution_count": 44,
   "id": "cfbf9c53-32bc-4c32-9e39-ad5a7f551f23",
   "metadata": {},
   "outputs": [],
   "source": [
    "# delete them\n",
    "data5=data5.loc[first_entries[-1]+1:last_entries[0]-1]"
   ]
  },
  {
   "cell_type": "code",
   "execution_count": 67,
   "id": "425cfb0b-fccc-4dd5-8227-fb919191f734",
   "metadata": {},
   "outputs": [
    {
     "data": {
      "text/plain": [
       "(Day\n",
       " 1     1153\n",
       " 2     1185\n",
       " 3     1188\n",
       " 4     1466\n",
       " 5     1416\n",
       " 6      904\n",
       " 7     1230\n",
       " 8     1428\n",
       " 9     1159\n",
       " 10    1488\n",
       " 11    1748\n",
       " 12    1416\n",
       " 13     948\n",
       " 14    1530\n",
       " 15    1716\n",
       " 16    1465\n",
       " 17    1488\n",
       " 18    1745\n",
       " 19    1404\n",
       " 20     958\n",
       " 21    1532\n",
       " 22    1716\n",
       " 23    1468\n",
       " 24    1199\n",
       " 25    1391\n",
       " 26    1404\n",
       " 27     892\n",
       " 28    1235\n",
       " 29    1140\n",
       " 30     892\n",
       " 31     902\n",
       " Name: Day, dtype: int64,\n",
       " Hour\n",
       " 0     1667\n",
       " 1     1669\n",
       " 2     1668\n",
       " 3     1668\n",
       " 4     1668\n",
       " 5     1668\n",
       " 6     1668\n",
       " 7     1668\n",
       " 8     1668\n",
       " 9     1668\n",
       " 10    1668\n",
       " 11    1667\n",
       " 12    1668\n",
       " 13    1668\n",
       " 14    1668\n",
       " 15    1666\n",
       " 16    1663\n",
       " 17    1656\n",
       " 18    1656\n",
       " 19    1676\n",
       " 20    1873\n",
       " 21    1969\n",
       " 22    1959\n",
       " 23    1669\n",
       " Name: Min, dtype: int64)"
      ]
     },
     "execution_count": 67,
     "metadata": {},
     "output_type": "execute_result"
    }
   ],
   "source": [
    "data5.groupby('Day')['Day'].count(),data5.groupby('Hour')['Min'].count()"
   ]
  },
  {
   "cell_type": "code",
   "execution_count": 61,
   "id": "bb88e2a4-15c5-443c-bb66-9236c6dbff5f",
   "metadata": {},
   "outputs": [
    {
     "data": {
      "text/plain": [
       "<bound method DataFrameGroupBy.count of <pandas.core.groupby.generic.DataFrameGroupBy object at 0x115c5caf0>>"
      ]
     },
     "execution_count": 61,
     "metadata": {},
     "output_type": "execute_result"
    }
   ],
   "source": []
  },
  {
   "cell_type": "code",
   "execution_count": 66,
   "id": "631bcaf4-e523-456d-a3d4-558261adcff5",
   "metadata": {},
   "outputs": [],
   "source": [
    "# split at each '\\n' (new line)\n",
    "input_data=data.split('\\n')\n",
    "# create numpy array (in order to change datatype to float)\n",
    "input_data=np.array(input_data)\n",
    "input_data=input_data.astype(np.float)\n",
    "input_data=pd.DataFrame(input_data)"
   ]
  },
  {
   "cell_type": "code",
   "execution_count": 67,
   "id": "10a6eece-0832-42c2-93ab-39542e8f0c8d",
   "metadata": {},
   "outputs": [],
   "source": [
    "#create logs\n",
    "log_data=np.log(input_data)"
   ]
  },
  {
   "cell_type": "code",
   "execution_count": 68,
   "id": "20a7c3da-883c-4b6b-8c10-feac95ca0456",
   "metadata": {},
   "outputs": [],
   "source": [
    "#create new column with lag_1 log_prices and delete first row\n",
    "log_data['lag1']=log_data.shift()\n",
    "log_data.drop(0,inplace=True)"
   ]
  },
  {
   "cell_type": "code",
   "execution_count": 76,
   "id": "bb80d3a2-7807-46d9-a76e-5eb152ee56a8",
   "metadata": {},
   "outputs": [],
   "source": [
    "#calculate log-returns\n",
    "returns=log_data[0]-log_data['lag1']"
   ]
  },
  {
   "cell_type": "code",
   "execution_count": null,
   "id": "ef1b9066-234d-483d-8a71-fc7c6271318d",
   "metadata": {},
   "outputs": [],
   "source": []
  },
  {
   "cell_type": "code",
   "execution_count": null,
   "id": "7f1e1e45-4bee-4d2a-b006-ac4aabd35ff7",
   "metadata": {},
   "outputs": [],
   "source": []
  },
  {
   "cell_type": "code",
   "execution_count": null,
   "id": "c66c2667-b240-4d0b-98db-42c93f386c50",
   "metadata": {},
   "outputs": [],
   "source": []
  }
 ],
 "metadata": {
  "kernelspec": {
   "display_name": "Python 3",
   "language": "python",
   "name": "python3"
  },
  "language_info": {
   "codemirror_mode": {
    "name": "ipython",
    "version": 3
   },
   "file_extension": ".py",
   "mimetype": "text/x-python",
   "name": "python",
   "nbconvert_exporter": "python",
   "pygments_lexer": "ipython3",
   "version": "3.8.8"
  }
 },
 "nbformat": 4,
 "nbformat_minor": 5
}
